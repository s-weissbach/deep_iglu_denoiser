{
 "cells": [
  {
   "cell_type": "code",
   "execution_count": 1,
   "metadata": {},
   "outputs": [
    {
     "name": "stdout",
     "output_type": "stream",
     "text": [
      "GPU ready\n"
     ]
    }
   ],
   "source": [
    "\n",
    "from utils.trainfiles import TrainFiles\n",
    "from utils.dataloader import DataLoader\n",
    "from model.unet import UNet\n",
    "\n",
    "import torch\n",
    "import torch.nn as nn\n",
    "import torch.nn.functional as F\n",
    "import torch.optim as optim\n",
    "\n",
    "if torch.cuda.is_available():\n",
    "    print('GPU ready')\n",
    "else:\n",
    "    print('Warning: only CPU found')"
   ]
  },
  {
   "cell_type": "markdown",
   "metadata": {},
   "source": [
    "# Generate trainfiles.json"
   ]
  },
  {
   "cell_type": "code",
   "execution_count": 2,
   "metadata": {},
   "outputs": [
    {
     "name": "stderr",
     "output_type": "stream",
     "text": [
      "  0%|          | 0/67 [00:00<?, ?it/s]"
     ]
    }
   ],
   "source": [
    "trainfiles = TrainFiles('trainfiles.yaml',True)\n",
    "trainfiles.find_files('/home/stephan/Desktop/',['.stk'], 4, 16)"
   ]
  },
  {
   "cell_type": "markdown",
   "metadata": {},
   "source": [
    "# Train UNet"
   ]
  },
  {
   "cell_type": "code",
   "execution_count": null,
   "metadata": {},
   "outputs": [],
   "source": [
    "trainfiles = TrainFiles('trainfiles.json',False)\n",
    "dataloader = DataLoader(trainfiles,batch_size=6,n_pre=2,n_post=2,train_height=400,train_width=400,load_multiple_targets_per_file=True,n_multiple_targets=1)\n",
    "\n",
    "device = torch.device(\"cuda\" if torch.cuda.is_available() else \"cpu\")\n",
    "\n",
    "model = UNet(dataloader.n_pre + dataloader.n_post).to(device)\n",
    "optimizer = optim.Adam(model.parameters(), lr=0.0001)\n",
    "criterion = nn.L1Loss()\n"
   ]
  },
  {
   "cell_type": "code",
   "execution_count": null,
   "metadata": {},
   "outputs": [],
   "source": [
    "# Training loop\n",
    "num_epochs = 1\n",
    "for epoch in range(num_epochs):\n",
    "    i = 0\n",
    "    while not dataloader.epoch_done:\n",
    "        batch_generated = dataloader.get_batch()\n",
    "        if not batch_generated:\n",
    "            break\n",
    "        data = dataloader.X.to(device)\n",
    "        targets = dataloader.y.to(device)\n",
    "        model.train()\n",
    "        outputs = model(data)\n",
    "        loss = criterion(outputs, targets)\n",
    "        optimizer.zero_grad()\n",
    "        loss.backward()\n",
    "        optimizer.step()\n",
    "        if i % 10 == 0:\n",
    "            print(f'Batch {i+1} (samples {(i+1)*dataloader.batch_size}), Loss: {loss.item()}')\n",
    "        i += 1\n",
    "    print(f'Epoch [{epoch+1}/{num_epochs}], Loss: {loss.item():.4f}')\n",
    "    dataloader.shuffle_array()"
   ]
  },
  {
   "cell_type": "code",
   "execution_count": null,
   "metadata": {},
   "outputs": [],
   "source": [
    "torch.save(model.state_dict(),'unet.pt')"
   ]
  },
  {
   "cell_type": "code",
   "execution_count": null,
   "metadata": {},
   "outputs": [],
   "source": [
    "from model.modelwrapper import ModelWrapper\n",
    "wrapper = ModelWrapper('unet.pt',2,2)"
   ]
  },
  {
   "cell_type": "code",
   "execution_count": null,
   "metadata": {},
   "outputs": [],
   "source": [
    "wrapper.denoise_img('/home/stephan/Desktop/students_10.05._old/Bachelorkurs_2023/Coverslip2 evoked spontan R8 ttx.stk')"
   ]
  }
 ],
 "metadata": {
  "kernelspec": {
   "display_name": "sgia",
   "language": "python",
   "name": "python3"
  },
  "language_info": {
   "codemirror_mode": {
    "name": "ipython",
    "version": 3
   },
   "file_extension": ".py",
   "mimetype": "text/x-python",
   "name": "python",
   "nbconvert_exporter": "python",
   "pygments_lexer": "ipython3",
   "version": "3.9.16"
  }
 },
 "nbformat": 4,
 "nbformat_minor": 2
}
