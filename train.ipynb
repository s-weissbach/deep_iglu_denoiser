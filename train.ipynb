{
 "cells": [
  {
   "cell_type": "code",
   "execution_count": 3,
   "metadata": {},
   "outputs": [
    {
     "name": "stdout",
     "output_type": "stream",
     "text": [
      "GPU ready\n"
     ]
    }
   ],
   "source": [
    "\n",
    "from utils.trainfiles import TrainFiles\n",
    "from utils.dataloader import DataLoader\n",
    "from model.unet import UNet\n",
    "\n",
    "import torch\n",
    "import torch.nn as nn\n",
    "import torch.nn.functional as F\n",
    "import torch.optim as optim\n",
    "\n",
    "if torch.cuda.is_available():\n",
    "    print('GPU ready')\n",
    "else:\n",
    "    print('Warning: only CPU found')"
   ]
  },
  {
   "cell_type": "markdown",
   "metadata": {},
   "source": [
    "# Generate trainfiles.json"
   ]
  },
  {
   "cell_type": "code",
   "execution_count": 2,
   "metadata": {},
   "outputs": [],
   "source": [
    "trainfiles = TrainFiles('trainfiles.json',True)\n",
    "trainfiles.find_files('/home/stephan/Desktop/',['.stk'])"
   ]
  },
  {
   "cell_type": "markdown",
   "metadata": {},
   "source": [
    "# Train UNet"
   ]
  },
  {
   "cell_type": "code",
   "execution_count": 8,
   "metadata": {},
   "outputs": [],
   "source": [
    "trainfiles = TrainFiles('trainfiles.json',False)\n",
    "dataloader = DataLoader(trainfiles,batch_size=6,n_pre=2,n_post=2,train_height=400,train_width=400,load_multiple_targets_per_file=True,n_multiple_targets=1)\n",
    "\n",
    "device = torch.device(\"cuda\" if torch.cuda.is_available() else \"cpu\")\n",
    "\n",
    "model = UNet(dataloader.n_pre + dataloader.n_post).to(device)\n",
    "optimizer = optim.Adam(model.parameters(), lr=0.0001)\n",
    "criterion = nn.L1Loss()\n"
   ]
  },
  {
   "cell_type": "code",
   "execution_count": 9,
   "metadata": {},
   "outputs": [
    {
     "name": "stdout",
     "output_type": "stream",
     "text": [
      "Batch 1 (samples 6), Loss: 0.6909609436988831\n",
      "Batch 11 (samples 66), Loss: 0.27553391456604004\n",
      "Batch 21 (samples 126), Loss: 0.2531118392944336\n",
      "Batch 31 (samples 186), Loss: 0.26683464646339417\n",
      "Batch 41 (samples 246), Loss: 0.31963130831718445\n",
      "Batch 51 (samples 306), Loss: 0.24245847761631012\n",
      "Batch 61 (samples 366), Loss: 0.22504113614559174\n",
      "Batch 71 (samples 426), Loss: 0.20224836468696594\n",
      "Batch 81 (samples 486), Loss: 0.23596012592315674\n",
      "Batch 91 (samples 546), Loss: 0.25659382343292236\n",
      "Batch 101 (samples 606), Loss: 0.2831600308418274\n"
     ]
    }
   ],
   "source": [
    "# Training loop\n",
    "num_epochs = 1\n",
    "for epoch in range(num_epochs):\n",
    "    i = 0\n",
    "    while not dataloader.epoch_done:\n",
    "        batch_generated = dataloader.get_batch()\n",
    "        if not batch_generated:\n",
    "            break\n",
    "        data = dataloader.X.to(device)\n",
    "        targets = dataloader.y.to(device)\n",
    "        model.train()\n",
    "        outputs = model(data)\n",
    "        loss = criterion(outputs, targets)\n",
    "        optimizer.zero_grad()\n",
    "        loss.backward()\n",
    "        optimizer.step()\n",
    "        if i % 10 == 0:\n",
    "            print(f'Batch {i+1} (samples {(i+1)*dataloader.batch_size}), Loss: {loss.item()}')\n",
    "        i += 1\n",
    "    print(f'Epoch [{epoch+1}/{num_epochs}], Loss: {loss.item():.4f}')\n",
    "    dataloader.shuffle_array()"
   ]
  },
  {
   "cell_type": "code",
   "execution_count": null,
   "metadata": {},
   "outputs": [],
   "source": []
  }
 ],
 "metadata": {
  "kernelspec": {
   "display_name": "sgia",
   "language": "python",
   "name": "python3"
  },
  "language_info": {
   "codemirror_mode": {
    "name": "ipython",
    "version": 3
   },
   "file_extension": ".py",
   "mimetype": "text/x-python",
   "name": "python",
   "nbconvert_exporter": "python",
   "pygments_lexer": "ipython3",
   "version": "3.9.16"
  }
 },
 "nbformat": 4,
 "nbformat_minor": 2
}
